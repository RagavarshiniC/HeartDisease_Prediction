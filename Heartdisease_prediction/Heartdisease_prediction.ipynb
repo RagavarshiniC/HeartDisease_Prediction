{
 "cells": [
  {
   "cell_type": "code",
   "execution_count": null,
   "metadata": {},
   "outputs": [
    {
     "name": "stdout",
     "output_type": "stream",
     "text": [
      "accuracy on training data: 0.8512396694214877\n",
      "accuracy on testing data: 0.819672131147541\n",
      "[0]\n",
      "The Person does not have a Heart Disease\n"
     ]
    },
    {
     "name": "stderr",
     "output_type": "stream",
     "text": [
      "C:\\Users\\RAMA RAO\\AppData\\Roaming\\Python\\Python310\\site-packages\\sklearn\\linear_model\\_logistic.py:444: ConvergenceWarning: lbfgs failed to converge (status=1):\n",
      "STOP: TOTAL NO. of ITERATIONS REACHED LIMIT.\n",
      "\n",
      "Increase the number of iterations (max_iter) or scale the data as shown in:\n",
      "    https://scikit-learn.org/stable/modules/preprocessing.html\n",
      "Please also refer to the documentation for alternative solver options:\n",
      "    https://scikit-learn.org/stable/modules/linear_model.html#logistic-regression\n",
      "  n_iter_i = _check_optimize_result(\n",
      "C:\\Users\\RAMA RAO\\AppData\\Roaming\\Python\\Python310\\site-packages\\sklearn\\base.py:450: UserWarning: X does not have valid feature names, but LogisticRegression was fitted with feature names\n",
      "  warnings.warn(\n"
     ]
    }
   ],
   "source": [
    "import numpy as np #numpy adds support for large dimensional arrays\n",
    "import pandas as pd #for table structure\n",
    "from sklearn.model_selection import train_test_split\n",
    "from sklearn.linear_model import LogisticRegression\n",
    "from sklearn.metrics import accuracy_score\n",
    "# loading the csv data to a Pandas DataFrame\n",
    "heart_data = pd.read_csv(r'C:\\Users\\RAMA RAO\\project\\Heartdisease_prediction\\data.csv.csv')\n",
    "#heart_data.head()\n",
    "#heart_data.shape no of rows and cols\n",
    "#heart_data.info()\n",
    "#heart_data.isnull().sum()\n",
    "# statistical measures about the data heart_data.describe()\n",
    "# checking the distribution of Target Variable heart_data['target'].value_counts()\n",
    "X = heart_data.drop(columns=\"target\", axis=1)#axis = 1 to refer vertical axis 0 for horizontal\n",
    "Y = heart_data['target']\n",
    "#print(X)\n",
    "#print(Y)\n",
    "X_train, X_test, Y_train, Y_test = train_test_split(X,Y,test_size=0.2,stratify=Y, random_state=2)\n",
    "#stratify for even order of distribution of 0s and 1s\n",
    "#random_state can be any number for getting fixed output without random number you will not get same op everytime\n",
    "\n",
    "#MODEL TRAINING\n",
    "model = LogisticRegression()\n",
    "# training the LogisticRegression model with Training data\n",
    "model.fit(X_train, Y_train)#to find the relationship bteween features and target\n",
    "\n",
    "X_train_accuracy = model.predict(X_train)\n",
    "training_data_accuracy = accuracy_score(X_train_accuracy,Y_train)\n",
    "print(\"accuracy on training data:\",training_data_accuracy)\n",
    "X_test_accuracy = model.predict(X_test)\n",
    "test_data_accuracy = accuracy_score(X_test_accuracy,Y_test)\n",
    "print(\"accuracy on testing data:\",test_data_accuracy)\n",
    "\n",
    "#BUILDING PREDICTIVE SYSTEM\n",
    "input_data = (62,0,0,140,268,0,0,160,0,3.6,0,2,2)\n",
    "\n",
    "# change the input data to a numpy array as manipulations are easier than on a tuple\n",
    "input_data_as_numpy_array= np.asarray(input_data)\n",
    "\n",
    "# reshape the numpy array as we are predicting for only on instance\n",
    "input_data_reshaped = input_data_as_numpy_array.reshape(1,-1)#1 row and unknown number of columns\n",
    "\n",
    "prediction = model.predict(input_data_reshaped)\n",
    "print(prediction)\n",
    "\n",
    "if (prediction== 0):\n",
    "  print('The Person does not have a Heart Disease')\n",
    "else:\n",
    "  print('The Person has Heart Disease')"
   ]
  }
 ],
 "metadata": {
  "kernelspec": {
   "display_name": "Python 3.10.2 64-bit",
   "language": "python",
   "name": "python3"
  },
  "language_info": {
   "name": "python",
   "version": "3.10.2"
  },
  "orig_nbformat": 4,
  "vscode": {
   "interpreter": {
    "hash": "26de051ba29f2982a8de78e945f0abaf191376122a1563185a90213a26c5da77"
   }
  }
 },
 "nbformat": 4,
 "nbformat_minor": 2
}
